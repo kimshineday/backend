{
 "cells": [
  {
   "cell_type": "markdown",
   "metadata": {},
   "source": [
    "두 문자열을 받아서 긴 문자열을 반환하는 함수 longer_string을 작성하세요. 만약 두 문자열의 길이가 같다면, 첫 번째 문자열을 반환하세요."
   ]
  },
  {
   "metadata": {
    "ExecuteTime": {
     "end_time": "2025-04-23T16:16:14.936785Z",
     "start_time": "2025-04-23T16:16:14.933107Z"
    }
   },
   "cell_type": "code",
   "source": [
    "def longer_string(a, b):\n",
    "    a_str = len(a)\n",
    "    b_str = len(b)\n",
    "    if a_str < b_str:\n",
    "        return b\n",
    "    else:\n",
    "        return a\n",
    "\n",
    "result_1 = longer_string('안녕하세요', '마루씨')\n",
    "result_2 = longer_string('마루씨', '안녕하세요')\n",
    "\n",
    "print(result_1, result_2)"
   ],
   "outputs": [
    {
     "name": "stdout",
     "output_type": "stream",
     "text": [
      "안녕하세요 안녕하세요\n"
     ]
    }
   ],
   "execution_count": 7
  }
 ],
 "metadata": {
  "language_info": {
   "name": "python"
  }
 },
 "nbformat": 4,
 "nbformat_minor": 2
}
