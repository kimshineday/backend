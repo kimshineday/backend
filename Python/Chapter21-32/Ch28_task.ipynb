{
 "cells": [
  {
   "cell_type": "markdown",
   "metadata": {},
   "source": [
    "사용자로부터 3개의 숫자를 입력받아, 이를 튜플로 만든 후 최소값과 최대값을 출력하는 함수 min_max를 작성하세요."
   ]
  },
  {
   "metadata": {
    "ExecuteTime": {
     "end_time": "2025-04-23T15:38:41.142599Z",
     "start_time": "2025-04-23T15:38:41.139243Z"
    }
   },
   "cell_type": "code",
   "source": [
    "def min_max(a):\n",
    "    print(max(a))\n",
    "    print(min(a))\n",
    "\n",
    "tup = (4, 100, 77)\n",
    "\n",
    "min_max(tup)"
   ],
   "outputs": [
    {
     "name": "stdout",
     "output_type": "stream",
     "text": [
      "100\n",
      "4\n"
     ]
    }
   ],
   "execution_count": 14
  },
  {
   "cell_type": "markdown",
   "metadata": {},
   "source": []
  }
 ],
 "metadata": {
  "language_info": {
   "name": "python"
  }
 },
 "nbformat": 4,
 "nbformat_minor": 2
}
