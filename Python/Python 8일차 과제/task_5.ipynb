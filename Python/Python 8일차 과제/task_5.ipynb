{
 "cells": [
  {
   "cell_type": "markdown",
   "metadata": {},
   "source": [
    "[문제]\n",
    "\n",
    "'Account' 클래스를 작성하세요. \n",
    "\n",
    "이 클래스는 소유자(owner)와 잔액(balance)을 속성으로 가지며, 잔액은 프라이빗 변수로 선언합니다. \n",
    "\n",
    "'deposit'와 'withdraw' 두 개의 메소드를 통해 잔액을 조작할 수 있도록 하세요. \n",
    "\n",
    "이 때, 잔액은 음수가 될 수 없도록 체크해야 합니다. 'Account' 객체를 생성하고,<br>\n",
    "입금 및 출금 작업을 시뮬레이션한 후, 최종 잔액을 출력하세요."
   ]
  },
  {
   "metadata": {
    "ExecuteTime": {
     "end_time": "2025-04-26T05:51:46.200767Z",
     "start_time": "2025-04-26T05:51:09.649493Z"
    }
   },
   "cell_type": "code",
   "source": [
    "# 클래스 선언\n",
    "class Account:\n",
    "    dep = 0\n",
    "    wd = 0\n",
    "    def __init__(self, owner, __balance = 0): # 기본 정보\n",
    "        self.owner = owner\n",
    "        self.__balance = __balance\n",
    "        self.info = {owner: __balance}\n",
    "\n",
    "    def deposit(self, dep): # 입금\n",
    "        self.dep = dep\n",
    "        self.info[self.owner] += self.dep\n",
    "        return f'입금 금액: {self.dep}원, 현재 금액 {self.info[self.owner]}원 입니다.'\n",
    "\n",
    "    def withdraw(self, wd): # 출금\n",
    "        self.wd = wd\n",
    "        self.info[self.owner] -= self.wd\n",
    "        return f'출금 금액: {self.wd}원, 현재 금액 {self.info}원 입니다.'\n",
    "\n",
    "# 함수 선언\n",
    "def account():\n",
    "    name = input(\"이름을 입력해주세요.\")\n",
    "    account = Account(name)\n",
    "    while True: # 인사 및 업무 지시\n",
    "        print(f'{name}님 안녕하세요. 현재 금액은 {account.info[name]}원 입니다.')\n",
    "        q1 = input('어떤 업무를 처리할까요?(입금, 출금, 취소): ')\n",
    "        if q1 == '입금': # 입금\n",
    "            print(f'{q1}을 선택하셨습니다.')\n",
    "            try:\n",
    "                result = int(input('얼마를 입급하시겠습니까?(숫자만 입력, 혹은 취소): '))\n",
    "            except ValueError:\n",
    "                print('다시 입력해주세요.')\n",
    "                continue\n",
    "            else:\n",
    "                print(account.deposit(result))\n",
    "        elif q1 == '출금': #출금\n",
    "            print(f'{q1}을 선택하셨습니다.')\n",
    "            try:\n",
    "                result = int(input('얼마를 출금하시겠습니까?(숫자만 입력, 혹은 취소): '))\n",
    "            except ValueError:\n",
    "                print('다시 입력해주세요.')\n",
    "                continue\n",
    "            else:\n",
    "                print(account.withdraw(result))\n",
    "        else:\n",
    "            break\n",
    "\n",
    "# 함수 호출\n",
    "account()"
   ],
   "outputs": [
    {
     "name": "stdout",
     "output_type": "stream",
     "text": [
      "김마루님 안녕하세요. 현재 금액은 0원 입니다.\n",
      "입금을 선택하셨습니다.\n",
      "입금 금액: 50000원, 현재 금액 50000원 입니다.\n",
      "김마루님 안녕하세요. 현재 금액은 50000원 입니다.\n",
      "출금을 선택하셨습니다.\n",
      "출금 금액: 12000원, 현재 금액 {'김마루': 38000}원 입니다.\n",
      "김마루님 안녕하세요. 현재 금액은 38000원 입니다.\n",
      "입금을 선택하셨습니다.\n",
      "입금 금액: 10000원, 현재 금액 48000원 입니다.\n",
      "김마루님 안녕하세요. 현재 금액은 48000원 입니다.\n"
     ]
    }
   ],
   "execution_count": 46
  }
 ],
 "metadata": {
  "language_info": {
   "name": "python"
  }
 },
 "nbformat": 4,
 "nbformat_minor": 2
}
