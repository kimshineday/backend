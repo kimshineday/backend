{
 "cells": [
  {
   "cell_type": "markdown",
   "metadata": {},
   "source": [
    "[문제] \n",
    "\n",
    "'Employee' 클래스를 선언하세요. \n",
    "\n",
    "이 클래스는 월급인상률을 의미하는 클래스 변수로 'raise_amount'를 갖고 있으며, 기본값은 1.04입니다. 다음 급여는 기본 급여에 월급인상률을 곱한 값으로 결정합니다.\n",
    "\n",
    "또한, 각 직원의 이름(name)과 급여(salary)를 속성으로 가지며, 'apply_raise' 메소드를 통해 급여에 'raise_amount'를 적용할 수 있어야 합니다.\n",
    "\n",
    "'Employee' 클래스의 객체 두 개를 생성하고, 한 객체에만 'raise_amount'를 변경한 후, 두 객체의 급여를 증가시켜보세요.<br>\n",
    "그리고 각 객체의 새로운 급여를 출력하세요."
   ]
  },
  {
   "metadata": {
    "ExecuteTime": {
     "end_time": "2025-04-25T18:05:46.190614Z",
     "start_time": "2025-04-25T18:05:46.185761Z"
    }
   },
   "cell_type": "code",
   "source": [
    "# 클래스 정의\n",
    "class Employee:\n",
    "    def __init__(self, name, salary, raise_amount = 1.04):\n",
    "        self.raise_amount = raise_amount\n",
    "        self.name = name\n",
    "        self.salary = salary\n",
    "    def apply_raise(self):\n",
    "         return self.salary * self.raise_amount\n",
    "\n",
    "# 두개의 객체 생성\n",
    "employee1 = Employee(\"김마루\", 2350000)\n",
    "employee2 = Employee(\"김마리\", 1200000, 1.23)\n",
    "\n",
    "# 출력\n",
    "print(f'{employee1.name}님의 월급인상율은 {employee1.raise_amount}%, 다음달 월급은 {int(employee1.apply_raise())}원 입니다.')\n",
    "print(f'{employee2.name}님의 월급인상율은 {employee2.raise_amount}%, 다음달 월급은 {int(employee2.apply_raise())}원 입니다.')"
   ],
   "outputs": [
    {
     "name": "stdout",
     "output_type": "stream",
     "text": [
      "김마루님의 월급인상율은 1.04%, 다음달 월급은 2444000원 입니다.\n",
      "김마리님의 월급인상율은 1.23%, 다음달 월급은 1476000원 입니다.\n"
     ]
    }
   ],
   "execution_count": 18
  }
 ],
 "metadata": {
  "language_info": {
   "name": "python"
  }
 },
 "nbformat": 4,
 "nbformat_minor": 2
}
