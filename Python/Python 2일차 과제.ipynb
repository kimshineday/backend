{
 "cells": [
  {
   "cell_type": "markdown",
   "metadata": {
    "id": "WXEwMsfUct7U"
   },
   "source": [
    "안녕하세요.<br><br>\n",
    "수강생 여러분~! Chapter05 ~ 08 수업은 잘 들으셨나요?\n",
    "\n",
    "Chapter05 ~ 08의 수업 내용을 바탕으로 아래 문제를 풀어주시면 됩니다.\n",
    "\n",
    "<br>\n",
    "\n",
    "\n",
    "[**답변 입력 방법**]\n",
    "\n",
    "문제 아래에 있는 코드 입력창에 정답코드를 작성하신 후  __▷ 버튼을 클릭해 코드를 실행__ 해보세요<br>"
   ]
  },
  {
   "cell_type": "markdown",
   "metadata": {
    "id": "qoyC9wF-3hvs"
   },
   "source": [
    "-----"
   ]
  },
  {
   "cell_type": "markdown",
   "metadata": {},
   "source": [
    "__[문제0]__\n",
    "<br>\n",
    "\n",
    "##### 이전 과제에서 \"도전! 신비의 섬 탐험\" 을 변수를 이용해서 다시 풀어보세요 !!!!!\n",
    "\n"
   ]
  },
  {
   "cell_type": "markdown",
   "metadata": {
    "id": "rAD_O3Gmc_43"
   },
   "source": [
    "__[문제1]__\n",
    "\n",
    "<br>\n",
    "변수명 게임에 들어 있는 값 중 '홀'만 출력되도록 코드를 작성해 주세요\n",
    "\n",
    "game = \"홀짝홀짝홀짝\"\n",
    "\n",
    "출력 예시 : \"홀홀홀\"\n"
   ]
  },
  {
   "cell_type": "markdown",
   "metadata": {},
   "source": [
    "__Tips__\n",
    "- 문자열 슬라이싱을 이용해보세요 !"
   ]
  },
  {
   "cell_type": "code",
   "execution_count": 20,
   "metadata": {
    "id": "74wtVQFFc_h1"
   },
   "outputs": [
    {
     "name": "stdout",
     "output_type": "stream",
     "text": [
      "홀홀홀\n",
      "홀홀홀\n"
     ]
    }
   ],
   "source": [
    "game = '홀짝홀짝홀짝'\n",
    "\n",
    "print(game[::2])\n",
    "\n",
    "print(game.replace('짝', ''))\n"
   ]
  },
  {
   "cell_type": "markdown",
   "metadata": {},
   "source": [
    "---"
   ]
  },
  {
   "cell_type": "markdown",
   "metadata": {
    "id": "3uK_auXYdgk2"
   },
   "source": [
    "__[문제2]__\n",
    "\n",
    "<br>\n",
    "\n",
    "변수명 전화번호에 들어 있는 번호를 모두 붙여서 출력되도록 코드를 작성해주세요.\n",
    "\n",
    "<br>\n",
    "\n",
    "phone = \"010-1234-5678\"\n",
    "\n",
    "출력 예시 : \"01012345678\""
   ]
  },
  {
   "cell_type": "markdown",
   "metadata": {},
   "source": [
    "__Tips__\n",
    "- split() 함수는 문자열을 특정 구분자를 기준으로 나누어 리스트로 반환합니다."
   ]
  },
  {
   "cell_type": "code",
   "execution_count": 14,
   "metadata": {
    "id": "9kvBxa6PdhgA"
   },
   "outputs": [
    {
     "name": "stdout",
     "output_type": "stream",
     "text": [
      "['010', '1234', '5678']\n"
     ]
    }
   ],
   "source": [
    "phone = \"010-1234-5678\"\n",
    "\n",
    "number = phone.split('-')\n",
    "print(number)"
   ]
  },
  {
   "cell_type": "markdown",
   "metadata": {},
   "source": [
    "----"
   ]
  },
  {
   "cell_type": "markdown",
   "metadata": {},
   "source": [
    "<br>\n",
    "\n",
    "__[문제3]__\n",
    "\n",
    "<br>\n",
    "\n",
    "오즈 코딩 스쿨 백엔드 8기 과정에 참여한 수강생 중 5명의 수강생이 자율적으로 스터디 그룹을 결성했습니다.\n",
    "\n",
    "스터디 그룹 내에는 한 주간 배운 내용으로 매주 쪽지 시험을 보는 룰이 있습니다. \n",
    "\n",
    "이 쪽지 시험의 평균이 70점이 넘으면 주말 스터디는 없습니다. \n",
    "\n",
    "주말 스터디의 여부를 True 또는 False로 출력해주세요. \n",
    "\n",
    "<br>\n",
    "A: 70, B: 75, C: 50, D: 80, E: 60\n",
    "\n",
    "<br>"
   ]
  },
  {
   "cell_type": "code",
   "execution_count": 21,
   "metadata": {},
   "outputs": [
    {
     "name": "stdout",
     "output_type": "stream",
     "text": [
      "False\n"
     ]
    }
   ],
   "source": [
    "# 변수 값 할당, 학생 수\n",
    "student = 5\n",
    "\n",
    "# 개인 성적\n",
    "A = 70\n",
    "B = 75\n",
    "C = 50\n",
    "D = 80\n",
    "E = 60\n",
    "\n",
    "# 평균\n",
    "average = (A + B + C + D + E) / student\n",
    "\n",
    "# 주말 스터디 여부 확인\n",
    "print(70 <= average)\n"
   ]
  },
  {
   "cell_type": "markdown",
   "metadata": {
    "id": "2Jte2VLKdiPm"
   },
   "source": [
    "__[문제4]__\n",
    "\n",
    "<br>\n",
    "\n",
    "창의성, 시장성, 안정성, 수익성에 대한 각각의 평가 중 아래 기준에 부합하지 못하면 창업지원을 받을 수 없습니다.\n",
    "\n",
    "- 수익성 60점 이상\n",
    "- 창의성과 시장성 50점 이상\n",
    "- 시장성과 수익성을 더한 값의 절반이 안정성 보다 높아야 함\n",
    "\n",
    "\n",
    "다음 점수가 입력되었을때 창업 지원이 가능한지 여부를 True 또는 False로 출력해주세요.\n",
    "\n",
    "---\n",
    "\n",
    "창의성 : 62\n",
    "시장성 : 71\n",
    "안정성 : 68\n",
    "수익성 : 66\n",
    "<br>\n",
    "\n",
    "* 참고\n",
    "(creativity ,\n",
    "marketability ,\n",
    "stability ,\n",
    "profitability )"
   ]
  },
  {
   "cell_type": "markdown",
   "metadata": {},
   "source": [
    "__Tips__\n",
    "* 비교 연산자와 논리 연산자의 결과를 고려해보아요"
   ]
  },
  {
   "cell_type": "code",
   "execution_count": 22,
   "metadata": {
    "id": "XJhvRO-2djBh"
   },
   "outputs": [
    {
     "name": "stdout",
     "output_type": "stream",
     "text": [
      "False\n"
     ]
    }
   ],
   "source": [
    "# 변수 값 할당\n",
    "creativity_point = 62\n",
    "marketability_point = 71\n",
    "stability_point = 68\n",
    "profitability_point = 66\n",
    "\n",
    "# 기준 확인 \n",
    "creativity = 60 <= creativity_point\n",
    "marketability = 50 <= marketability_point\n",
    "stability = 50 <= stability_point\n",
    "profitability = stability_point <= marketability_point + profitability_point\n",
    "\n",
    "# 창업지원 가능 여부 확인\n",
    "print(True and False)"
   ]
  },
  {
   "cell_type": "markdown",
   "metadata": {},
   "source": [
    "## 모험가들의 레벨업 도전\n",
    "\n",
    "### [배경 이야기]\n",
    "\n",
    "당신은 마법사, 전사, 도적, 힐러 네 명의 모험가를 이끄는 리더입니다. \n",
    "\n",
    "각 캐릭터는 힘, 민첩, 지능, 체력이라는 능력치를 가지고 있습니다. 이 능력치들을 이용해 다양한 도전을 해결하고 사냥을 통해 경험치를 얻어 레벨업을 해야 합니다.\n",
    "\n",
    "<br>\n",
    "\n",
    "### [동료 캐릭터와 능력치 정보]\n",
    "\n",
    "마법사: 힘(10), 민첩(20), 지능(80), 체력(50)\n",
    "\n",
    "전사: 힘(80), 민첩(30), 지능(20), 체력(100)\n",
    "\n",
    "도적: 힘(40), 민첩(80), 지능(30), 체력(60)\n",
    "\n",
    "힐러: 힘(20), 민첩(40), 지능(70), 체력(70)\n",
    "\n",
    "<br>\n",
    "\n",
    "* 변수명을 영어로 변경해서 풀어보세요 !"
   ]
  },
  {
   "cell_type": "markdown",
   "metadata": {},
   "source": [
    "<br>\n",
    "\n",
    "__[문제 1: 첫 번째 사냥]__\n",
    "\n",
    "마법사는 몬스터를 사냥하기 위해 마법을 사용합니다. \n",
    "\n",
    "마법을 사용하려면 지능이 50 이상이어야 합니다. \n",
    "\n",
    "마법사의 지능이 50 이상인지 확인하세요."
   ]
  },
  {
   "cell_type": "code",
   "execution_count": 30,
   "metadata": {},
   "outputs": [
    {
     "name": "stdout",
     "output_type": "stream",
     "text": [
      "True\n"
     ]
    }
   ],
   "source": [
    "wizard = '마법사'\n",
    "wizard_intell = 80\n",
    "wizard_intell_s = 50\n",
    "\n",
    "# 확인\n",
    "print(wizard_intell_s <= wizard_intell)"
   ]
  },
  {
   "cell_type": "markdown",
   "metadata": {},
   "source": [
    "<br>\n",
    "\n",
    "__[문제 2: 두 번째 사냥]__\n",
    "\n",
    "전사는 강력한 공격을 하기 위해 자신의 힘을 사용합니다. \n",
    "\n",
    "전사의 힘이 60 이상이고 체력이 80 이상인지 확인하세요."
   ]
  },
  {
   "cell_type": "code",
   "execution_count": 31,
   "metadata": {},
   "outputs": [
    {
     "name": "stdout",
     "output_type": "stream",
     "text": [
      "True\n"
     ]
    }
   ],
   "source": [
    "warrior = '전사'\n",
    "warrior_strength = 80\n",
    "warrior_strength_s = 80\n",
    "\n",
    "#확인\n",
    "print(warrior_strength_s <= warrior_strength)"
   ]
  },
  {
   "cell_type": "markdown",
   "metadata": {},
   "source": [
    "<br>\n",
    "\n",
    "__[문제 3: 세 번째 사냥]__\n",
    "\n",
    "도적은 민첩함을 이용해 몬스터를 회피하고 공격합니다. \n",
    "\n",
    "도적의 민첩이 70 이상이거나 힘이 50 이상인지 확인하세요."
   ]
  },
  {
   "cell_type": "code",
   "execution_count": 32,
   "metadata": {},
   "outputs": [
    {
     "name": "stdout",
     "output_type": "stream",
     "text": [
      "True\n"
     ]
    }
   ],
   "source": [
    "rogue = '도적'\n",
    "# 값 할당\n",
    "rogue_agility = 80\n",
    "rogue_strength = 40\n",
    "\n",
    "# 기준치 변수 만들기\n",
    "rogue_agility_s = 70\n",
    "rogue_strength_s = 50\n",
    "\n",
    "# 확인\n",
    "agility = rogue_agility_s <= rogue_agility\n",
    "strength = rogue_strength_s <= rogue_strength\n",
    "\n",
    "print(agility or strength)"
   ]
  },
  {
   "cell_type": "markdown",
   "metadata": {},
   "source": [
    "<br>\n",
    "\n",
    "__[문제 4: 네 번째 사냥]__\n",
    "\n",
    "힐러는 파티의 체력을 회복시키기 위해 마법을 사용합니다. \n",
    "\n",
    "힐러의 지능이 60 이상이고, 체력이 50 이상인지 확인하세요."
   ]
  },
  {
   "cell_type": "code",
   "execution_count": 33,
   "metadata": {},
   "outputs": [
    {
     "name": "stdout",
     "output_type": "stream",
     "text": [
      "True\n"
     ]
    }
   ],
   "source": [
    "healer = '힐러'\n",
    "# 변수 값 할당\n",
    "healer_intell = 70\n",
    "healer_stamina = 70\n",
    "\n",
    "# 기준치 변수\n",
    "healer_intell_s = 60\n",
    "healer_stamina_s = 50\n",
    "\n",
    "# 확인\n",
    "intell = healer_intell_s <= healer_intell\n",
    "stamina = healer_stamina_s <= healer_stamina\n",
    "\n",
    "print(intell and stamina)"
   ]
  },
  {
   "cell_type": "markdown",
   "metadata": {},
   "source": [
    "<br>\n",
    "\n",
    "__[문제 5: 레벨업]__\n",
    "\n",
    "모든 캐릭터가 사냥을 성공적으로 마쳤습니다. 이제 경험치를 얻어 레벨업을 해야 합니다. \n",
    "\n",
    "\n",
    "각 캐릭터의 경험치가 100 이상인지 print()를 이용해 확인해주세요.\n",
    "\n",
    "<br>\n",
    "\n",
    "경험치는 아래와 같습니다.\n",
    "\n",
    "마법사: 120\n",
    "\n",
    "전사: 150\n",
    "\n",
    "도적: 110\n",
    "\n",
    "힐러: 90\n",
    "\n"
   ]
  },
  {
   "cell_type": "code",
   "execution_count": 35,
   "metadata": {},
   "outputs": [
    {
     "name": "stdout",
     "output_type": "stream",
     "text": [
      "마법사는 경험치 기준에 도달했는가? True\n",
      "전사는 경험치 기준에 도달했는가? True\n",
      "도적는 경험치 기준에 도달했는가? True\n",
      "힐러는 경험치 기준에 도달했는가? False\n"
     ]
    }
   ],
   "source": [
    "#각 캐릭터들의 경험치\n",
    "wizard_exp = 120\n",
    "warrior_exp = 150\n",
    "rogue_exp = 110\n",
    "healer_exp = 90\n",
    "\n",
    "#레벨업 기준\n",
    "lv_s = 100\n",
    "\n",
    "wizard_lvup = lv_s <= wizard_exp\n",
    "warrior_lvup = lv_s <= warrior_exp\n",
    "rogue_lvup = lv_s <= rogue_exp\n",
    "healer_lvup = lv_s <= healer_exp\n",
    "\n",
    "\n",
    "# 확인\n",
    "print(f'{wizard}는 경험치 기준에 도달했는가? {wizard_lvup}')\n",
    "print(f'{warrior}는 경험치 기준에 도달했는가? {warrior_lvup}')\n",
    "print(f'{rogue}는 경험치 기준에 도달했는가? {rogue_lvup}')\n",
    "print(f'{healer}는 경험치 기준에 도달했는가? {healer_lvup}')\n"
   ]
  }
 ],
 "metadata": {
  "colab": {
   "authorship_tag": "ABX9TyP7YKA5FdtGggYfD74V7SMJ",
   "provenance": []
  },
  "kernelspec": {
   "display_name": "Python 3",
   "name": "python3"
  },
  "language_info": {
   "codemirror_mode": {
    "name": "ipython",
    "version": 3
   },
   "file_extension": ".py",
   "mimetype": "text/x-python",
   "name": "python",
   "nbconvert_exporter": "python",
   "pygments_lexer": "ipython3",
   "version": "3.9.6"
  }
 },
 "nbformat": 4,
 "nbformat_minor": 0
}
