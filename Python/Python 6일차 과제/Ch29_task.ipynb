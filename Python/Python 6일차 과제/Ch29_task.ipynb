{
 "cells": [
  {
   "cell_type": "markdown",
   "metadata": {},
   "source": [
    "주어진 숫자가 짝수인지 확인하는 함수 is_even을 작성하세요. 짝수라면 True를, 아니라면 False를 반환하세요. 함수 내에서 조기 리턴을 활용하세요."
   ]
  },
  {
   "metadata": {
    "ExecuteTime": {
     "end_time": "2025-04-23T16:04:52.528522Z",
     "start_time": "2025-04-23T16:04:52.524018Z"
    }
   },
   "cell_type": "code",
   "source": [
    "def is_even(a):\n",
    "    if int(a) % 2 == 0:\n",
    "        return True\n",
    "    return False\n",
    "\n",
    "result = is_even(6)\n",
    "print(result)"
   ],
   "outputs": [
    {
     "name": "stdout",
     "output_type": "stream",
     "text": [
      "True\n"
     ]
    }
   ],
   "execution_count": 23
  }
 ],
 "metadata": {
  "language_info": {
   "name": "python"
  }
 },
 "nbformat": 4,
 "nbformat_minor": 2
}
