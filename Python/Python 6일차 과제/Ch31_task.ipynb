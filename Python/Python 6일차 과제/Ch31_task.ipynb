{
 "cells": [
  {
   "cell_type": "markdown",
   "metadata": {},
   "source": [
    "문자열 리스트를 받아, 각 문자열의 길이를 출력하는 함수 print_lengths를 작성하세요."
   ]
  },
  {
   "metadata": {
    "ExecuteTime": {
     "end_time": "2025-04-23T15:01:42.529144Z",
     "start_time": "2025-04-23T15:01:42.525156Z"
    }
   },
   "cell_type": "code",
   "source": [
    "str_ = ['가나다라', '마바', '사아']\n",
    "\n",
    "def print_lengths():\n",
    "    global str_\n",
    "    for i in str_:\n",
    "        print(len(i))\n",
    "\n",
    "print_lengths()"
   ],
   "outputs": [
    {
     "name": "stdout",
     "output_type": "stream",
     "text": [
      "4\n",
      "2\n",
      "2\n"
     ]
    }
   ],
   "execution_count": 12
  }
 ],
 "metadata": {
  "language_info": {
   "name": "python"
  }
 },
 "nbformat": 4,
 "nbformat_minor": 2
}
