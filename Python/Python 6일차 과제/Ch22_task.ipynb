{
 "cells": [
  {
   "cell_type": "markdown",
   "metadata": {},
   "source": [
    "여러 숫자를 입력받아 그 합계를 반환하는 함수 sum_numbers를 작성하세요. 이 때, 가변 매개변수를 사용하세요."
   ]
  },
  {
   "metadata": {
    "ExecuteTime": {
     "end_time": "2025-04-23T14:08:26.101376Z",
     "start_time": "2025-04-23T14:08:26.097167Z"
    }
   },
   "cell_type": "code",
   "source": [
    "def sum_numbers(*sum1):\n",
    "    for num in sum1:\n",
    "        return sum(sum1)\n",
    "\n",
    "sum_numbers(1, 3, 6, 8, 4, 5)"
   ],
   "outputs": [
    {
     "data": {
      "text/plain": [
       "27"
      ]
     },
     "execution_count": 22,
     "metadata": {},
     "output_type": "execute_result"
    }
   ],
   "execution_count": 22
  }
 ],
 "metadata": {
  "language_info": {
   "name": "python"
  }
 },
 "nbformat": 4,
 "nbformat_minor": 2
}
