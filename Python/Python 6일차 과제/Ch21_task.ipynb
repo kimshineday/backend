{
 "cells": [
  {
   "cell_type": "markdown",
   "metadata": {},
   "source": [
    "사용자로부터 이름과 나이를 입력 받아, \"안녕하세요, [이름]님! 당신은 [나이]살입니다.\"라고 출력하는 함수 greet_user를 작성하세요."
   ]
  },
  {
   "cell_type": "markdown",
   "metadata": {},
   "source": []
  },
  {
   "metadata": {
    "ExecuteTime": {
     "end_time": "2025-04-23T07:27:04.049535Z",
     "start_time": "2025-04-23T07:27:04.024120Z"
    }
   },
   "cell_type": "code",
   "source": [
    "def great_user(이름, 나이):\n",
    "    print(f'안녕하세요, {이름}님! 당신은 {나이}살 입니다.')\n",
    "\n",
    "great_user('김마루', 5)"
   ],
   "outputs": [
    {
     "name": "stdout",
     "output_type": "stream",
     "text": [
      "안녕하세요, 김마루님! 당신은 5살 입니다.\n"
     ]
    }
   ],
   "execution_count": 1
  }
 ],
 "metadata": {
  "language_info": {
   "name": "python"
  }
 },
 "nbformat": 4,
 "nbformat_minor": 2
}
