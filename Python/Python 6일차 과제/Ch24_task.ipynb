{
 "cells": [
  {
   "cell_type": "markdown",
   "metadata": {},
   "source": [
    "사용자의 이름, 나이, 성별을 출력하는 함수 print_info를 작성하세요. 이 때, 모든 매개변수는 키워드 매개변수로만 받도록 하세요."
   ]
  },
  {
   "metadata": {
    "ExecuteTime": {
     "end_time": "2025-04-23T12:06:36.305325Z",
     "start_time": "2025-04-23T12:06:36.302968Z"
    }
   },
   "cell_type": "code",
   "source": [
    "def print_info(**info):\n",
    "    for key, value in info.items():\n",
    "        print(key, value, end = '/')\n",
    "\n",
    "print_info(name = '김마루', age = 5, gender = '남자')\n",
    "print_info(dog = '말티즈')\n"
   ],
   "outputs": [
    {
     "name": "stdout",
     "output_type": "stream",
     "text": [
      "name 김마루/age 5/gender 남자/dog 말티즈/"
     ]
    }
   ],
   "execution_count": 10
  },
  {
   "cell_type": "markdown",
   "metadata": {},
   "source": []
  }
 ],
 "metadata": {
  "language_info": {
   "name": "python"
  }
 },
 "nbformat": 4,
 "nbformat_minor": 2
}
