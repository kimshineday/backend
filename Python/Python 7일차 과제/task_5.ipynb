{
 "cells": [
  {
   "cell_type": "markdown",
   "metadata": {},
   "source": [
    "datetime 모듈을 사용하여 현재 날짜와 시간을 출력하는 프로그램을 작성하세요. \n",
    "\n",
    "또한, 사용자로부터 태어난 년도를 입력받아 현재 나이를 계산하여 출력하세요."
   ]
  },
  {
   "cell_type": "code",
   "execution_count": 3,
   "metadata": {},
   "outputs": [
    {
     "name": "stdout",
     "output_type": "stream",
     "text": [
      "Today: 2025년 4월 25일 0시 16분\n",
      "당신의 나이는 25살\n"
     ]
    }
   ],
   "source": [
    "import datetime\n",
    "\n",
    "def nownow():\n",
    "    now = datetime.datetime.now()\n",
    "    print(f'Today: {now.year}년 {now.month}월 {now.day}일 {now.hour}시 {now.minute}분')\n",
    "    y, m, d = input('당신의 생년월일은? (2015.04.25): ').split('.')\n",
    "    age = now.year - int(y)\n",
    "    print(f'당신의 나이는 {age}살')\n",
    "\n",
    "nownow()"
   ]
  }
 ],
 "metadata": {
  "kernelspec": {
   "display_name": "Python 3",
   "language": "python",
   "name": "python3"
  },
  "language_info": {
   "codemirror_mode": {
    "name": "ipython",
    "version": 3
   },
   "file_extension": ".py",
   "mimetype": "text/x-python",
   "name": "python",
   "nbconvert_exporter": "python",
   "pygments_lexer": "ipython3",
   "version": "3.13.2"
  }
 },
 "nbformat": 4,
 "nbformat_minor": 2
}
