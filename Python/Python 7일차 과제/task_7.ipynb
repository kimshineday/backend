{
 "cells": [
  {
   "cell_type": "markdown",
   "metadata": {},
   "source": [
    "함수 실행 시간을 측정하는 데코레이터 timer_decorator를 작성하세요. \n",
    "\n",
    "임의의 함수가 실행되는 시간을 측정하여 \"함수 실행 시간: x.xx초\" 형태로 출력하세요."
   ]
  },
  {
   "cell_type": "code",
   "execution_count": null,
   "metadata": {},
   "outputs": [
    {
     "name": "stdout",
     "output_type": "stream",
     "text": [
      "함수 실행 시간: \n",
      "1.0053348541259766\n"
     ]
    }
   ],
   "source": [
    "import time\n",
    "# 작업 전 시간\n",
    "start = time.time()\n",
    "\n",
    "print('함수 실행 시간: ')\n",
    "time.sleep(1)\n",
    "\n",
    "# 작업 후 시간\n",
    "end = time.time()\n",
    "\n",
    "# 시간 계산\n",
    "print(end-start)\n",
    "\n",
    "# 데코레이터 좀 더 찾아보기."
   ]
  }
 ],
 "metadata": {
  "kernelspec": {
   "display_name": "Python 3",
   "language": "python",
   "name": "python3"
  },
  "language_info": {
   "codemirror_mode": {
    "name": "ipython",
    "version": 3
   },
   "file_extension": ".py",
   "mimetype": "text/x-python",
   "name": "python",
   "nbconvert_exporter": "python",
   "pygments_lexer": "ipython3",
   "version": "3.13.2"
  }
 },
 "nbformat": 4,
 "nbformat_minor": 2
}
