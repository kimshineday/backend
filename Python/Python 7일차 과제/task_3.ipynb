{
 "cells": [
  {
   "cell_type": "markdown",
   "metadata": {},
   "source": [
    "사용자로부터 여러 개의 숫자를 입력받아 리스트에 저장한 후, 사용자가 'done'이라고 입력할 때까지 계속 입력받으세요. \n",
    "\n",
    "- 입력 중 숫자가 아닌 값이 입력되면 ValueError를 처리\n",
    "- 숫자 외 값이 입력된 경우 어떤 값이 잘못 입력되었는지 사용자에게 알려주는 문구 출력<br>\n",
    "  (예: f\"잘못된 값: {변수}. 숫자를 입력해주세요.\")\n",
    "\n"
   ]
  },
  {
   "cell_type": "code",
   "execution_count": 28,
   "metadata": {},
   "outputs": [
    {
     "name": "stdout",
     "output_type": "stream",
     "text": [
      "잘못된 값: d, 숫자를 입력해주세요\n",
      "잘못된 값: f, 숫자를 입력해주세요\n",
      "잘못된 값: g, 숫자를 입력해주세요\n",
      "잘못된 값: h, 숫자를 입력해주세요\n",
      "[1, 2, 5, 7, 8]\n",
      "완료되었습니다.\n"
     ]
    }
   ],
   "source": [
    "listlist = []\n",
    "\n",
    "def listfolder():\n",
    "    while True:\n",
    "        input_ = input('저장할 숫자를 입력해주세요.: ')\n",
    "        if input_ == 'done':\n",
    "            print(listlist)\n",
    "            print('완료되었습니다.')\n",
    "            break\n",
    "        try:\n",
    "            realnum = int(input_)\n",
    "            listlist.append(realnum)\n",
    "        except ValueError:\n",
    "            print(f'잘못된 값: {input_}, 숫자를 입력해주세요')\n",
    "\n",
    "listfolder()\n"
   ]
  }
 ],
 "metadata": {
  "kernelspec": {
   "display_name": "Python 3",
   "language": "python",
   "name": "python3"
  },
  "language_info": {
   "codemirror_mode": {
    "name": "ipython",
    "version": 3
   },
   "file_extension": ".py",
   "mimetype": "text/x-python",
   "name": "python",
   "nbconvert_exporter": "python",
   "pygments_lexer": "ipython3",
   "version": "3.13.2"
  }
 },
 "nbformat": 4,
 "nbformat_minor": 2
}
